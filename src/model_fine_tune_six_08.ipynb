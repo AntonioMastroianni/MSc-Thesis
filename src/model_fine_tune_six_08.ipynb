{
  "nbformat": 4,
  "nbformat_minor": 0,
  "metadata": {
    "colab": {
      "provenance": [],
      "gpuType": "T4"
    },
    "kernelspec": {
      "name": "python3",
      "display_name": "Python 3"
    },
    "language_info": {
      "name": "python"
    },
    "accelerator": "GPU"
  },
  "cells": [
    {
      "cell_type": "code",
      "source": [
        "import os\n",
        "import torch\n",
        "import torch.nn as nn\n",
        "import torch.optim as optim\n",
        "import torchvision.transforms as transforms\n",
        "import torch.backends.cudnn as cudnn\n",
        "import torchvision.datasets as datasets\n",
        "import matplotlib.pyplot as plt\n",
        "import seaborn as sns\n",
        "from tqdm import tqdm\n",
        "from sklearn.model_selection import train_test_split\n",
        "from sklearn.metrics import confusion_matrix, precision_score, recall_score, f1_score\n",
        "from torch.utils.data import DataLoader, Subset, Dataset\n",
        "from torch.optim.lr_scheduler import ReduceLROnPlateau\n",
        "from transformers import ViTForImageClassification\n",
        "from torch.amp import autocast, GradScaler\n",
        "from PIL import Image\n",
        "import random"
      ],
      "metadata": {
        "id": "iujuQ_6VSXXt"
      },
      "execution_count": 120,
      "outputs": []
    },
    {
      "cell_type": "code",
      "source": [
        "from google.colab import drive"
      ],
      "metadata": {
        "id": "IvgAvtBC0kM-"
      },
      "execution_count": 52,
      "outputs": []
    },
    {
      "cell_type": "code",
      "source": [
        "os.environ[\"WANDB_DISABLED\"] = \"true\""
      ],
      "metadata": {
        "id": "WdRxAgfSXzTV"
      },
      "execution_count": 53,
      "outputs": []
    },
    {
      "cell_type": "code",
      "source": [
        "drive.mount('/content/drive')"
      ],
      "metadata": {
        "colab": {
          "base_uri": "https://localhost:8080/"
        },
        "id": "VQwS4yq_SN63",
        "outputId": "d8bfaea7-8695-435e-eb00-340ee71823a7"
      },
      "execution_count": 54,
      "outputs": [
        {
          "output_type": "stream",
          "name": "stdout",
          "text": [
            "Drive already mounted at /content/drive; to attempt to forcibly remount, call drive.mount(\"/content/drive\", force_remount=True).\n"
          ]
        }
      ]
    },
    {
      "cell_type": "code",
      "source": [
        "#!cp -r /content/drive/MyDrive/Tesi/data_for_model/six_classes /content/"
      ],
      "metadata": {
        "id": "WLEBucJ68cfZ"
      },
      "execution_count": 55,
      "outputs": []
    },
    {
      "cell_type": "code",
      "source": [
        "device = torch.device(\"cuda\" if torch.cuda.is_available() else \"cpu\")\n",
        "cudnn.benchmark = True"
      ],
      "metadata": {
        "id": "Y23D-w3Iu0Fb"
      },
      "execution_count": 56,
      "outputs": []
    },
    {
      "cell_type": "code",
      "source": [
        "train_dir = \"/content/six_classes/train\"\n",
        "test_dir = \"/content/six_classes/test\""
      ],
      "metadata": {
        "id": "TtWQ6o3uK8rY"
      },
      "execution_count": 57,
      "outputs": []
    },
    {
      "cell_type": "code",
      "source": [
        "def get_augmentation_transform():\n",
        "    return transforms.Compose([\n",
        "        transforms.RandomHorizontalFlip(),\n",
        "        transforms.RandomRotation(15),\n",
        "        transforms.ColorJitter(brightness=0.2, contrast=0.2),\n",
        "        transforms.RandomAffine(degrees=0, translate=(0.1, 0.1)),\n",
        "        transforms.ToTensor(),\n",
        "        transforms.Normalize(mean=[0.5, 0.5, 0.5], std=[0.5, 0.5, 0.5])\n",
        "    ])\n"
      ],
      "metadata": {
        "id": "SSViygB9JzHn"
      },
      "execution_count": 58,
      "outputs": []
    },
    {
      "cell_type": "code",
      "source": [
        "transform_test = transforms.Compose([\n",
        "         transforms.ToTensor(),\n",
        "         transforms.Normalize(mean=[0.5, 0.5, 0.5], std=[0.5, 0.5, 0.5])\n",
        "     ])"
      ],
      "metadata": {
        "id": "3qL5bZc7u2df"
      },
      "execution_count": 59,
      "outputs": []
    },
    {
      "cell_type": "code",
      "source": [
        "# ✅ Load dataset class frequencies\n",
        "class_counts = {}\n",
        "for class_name in os.listdir(train_dir):\n",
        "    class_path = os.path.join(train_dir, class_name)\n",
        "    if os.path.isdir(class_path):\n",
        "        class_counts[class_name] = len(os.listdir(class_path))\n",
        "\n",
        "min_class_count = min(class_counts.values())\n",
        "print(\"Class Distribution:\", class_counts)\n",
        "print(f\"Balanced Class Count: {min_class_count}\")"
      ],
      "metadata": {
        "colab": {
          "base_uri": "https://localhost:8080/"
        },
        "id": "2KAtS4mwJ6nw",
        "outputId": "ad4436b7-de58-4bcd-c660-cc9fd56c5d81"
      },
      "execution_count": 60,
      "outputs": [
        {
          "output_type": "stream",
          "name": "stdout",
          "text": [
            "Class Distribution: {'class_36': 156, 'class_12': 112, 'class_26': 66, 'class_10': 67, 'class_5': 88, 'class_1': 3602}\n",
            "Balanced Class Count: 66\n"
          ]
        }
      ]
    },
    {
      "cell_type": "code",
      "source": [
        "# ✅ Downsample Majority Class (class_1)\n",
        "downsampled_class_1 = 1800  # Reduce class_1 to 500 samples to prevent imbalance\n",
        "class_counts['class_1'] = downsampled_class_1"
      ],
      "metadata": {
        "id": "kMjUdqze6Yny"
      },
      "execution_count": 61,
      "outputs": []
    },
    {
      "cell_type": "code",
      "source": [
        "# ✅ Adjust Augmentation Factor Based on Class Frequency\n",
        "max_class_count = max(class_counts.values())\n",
        "print(max_class_count)\n",
        "aug_factors = {class_name: max(1, max_class_count // count) for class_name, count in class_counts.items()}\n",
        "aug_factors = {'class_36': 6, 'class_12': 8, 'class_26': 15, 'class_10': 14, 'class_5': 11, 'class_1': 1}\n",
        "print(\"Augmentation Factors:\", aug_factors)"
      ],
      "metadata": {
        "colab": {
          "base_uri": "https://localhost:8080/"
        },
        "id": "gqVON3I26gBT",
        "outputId": "6bfae2d6-f0be-4f0f-8e1e-1331c05ee31d"
      },
      "execution_count": 62,
      "outputs": [
        {
          "output_type": "stream",
          "name": "stdout",
          "text": [
            "1800\n",
            "Augmentation Factors: {'class_36': 6, 'class_12': 8, 'class_26': 15, 'class_10': 14, 'class_5': 11, 'class_1': 1}\n"
          ]
        }
      ]
    },
    {
      "cell_type": "code",
      "source": [
        "aug_factors = {'class_36': 3, 'class_12': 3, 'class_26': 3, 'class_10': 3, 'class_5': 3, 'class_1': 1}"
      ],
      "metadata": {
        "id": "ljdGKpt-JSnY"
      },
      "execution_count": 63,
      "outputs": []
    },
    {
      "cell_type": "code",
      "source": [
        "# ✅ Balanced Dataset with Augmentation\n",
        "#class_labels = {class_name: idx for idx, class_name in enumerate(class_counts.keys())}"
      ],
      "metadata": {
        "id": "z_OEl5GI7Ea3"
      },
      "execution_count": 64,
      "outputs": []
    },
    {
      "cell_type": "code",
      "source": [
        "class_labels = {'class_36': 4,\n",
        " 'class_12': 2,\n",
        " 'class_26': 3,\n",
        " 'class_10': 1,\n",
        " 'class_5': 5,\n",
        " 'class_1': 0}"
      ],
      "metadata": {
        "id": "Sg7VFkgqrt0y"
      },
      "execution_count": 91,
      "outputs": []
    },
    {
      "cell_type": "code",
      "source": [
        "class AugmentedDataset(Dataset):\n",
        "    def __init__(self, root_dir, transform=None):\n",
        "        self.transform = transform\n",
        "        self.samples = []\n",
        "\n",
        "        for class_name, label in class_labels.items():\n",
        "            class_dir = os.path.join(root_dir, class_name)\n",
        "            images = os.listdir(class_dir)\n",
        "\n",
        "            if class_name == 'class_1':\n",
        "                images = random.sample(images, downsampled_class_1)  # Downsample majority class\n",
        "\n",
        "            aug_factor = aug_factors[class_name]\n",
        "            for img_name in images:\n",
        "                for _ in range(aug_factor):  # Apply higher augmentation for smaller classes\n",
        "                    self.samples.append((os.path.join(class_dir, img_name), label))\n",
        "\n",
        "    def __len__(self):\n",
        "        return len(self.samples)\n",
        "\n",
        "    def __getitem__(self, index):\n",
        "        img_path, label = self.samples[index]\n",
        "        image = Image.open(img_path).convert(\"RGB\")\n",
        "        if self.transform:\n",
        "            image = self.transform(image)\n",
        "        return image, torch.tensor(label)"
      ],
      "metadata": {
        "id": "6bKeKMdx7GpT"
      },
      "execution_count": 92,
      "outputs": []
    },
    {
      "cell_type": "code",
      "source": [
        "# ✅ Create Train and Test Datasets\n",
        "train_dataset = AugmentedDataset(root_dir=train_dir, transform=get_augmentation_transform())\n",
        "test_dataset = datasets.ImageFolder(root=test_dir, transform=transform_test)"
      ],
      "metadata": {
        "id": "vqCgafMq6xIs"
      },
      "execution_count": 93,
      "outputs": []
    },
    {
      "cell_type": "code",
      "source": [],
      "metadata": {
        "id": "JqC5rIfNrc11"
      },
      "execution_count": 93,
      "outputs": []
    },
    {
      "cell_type": "code",
      "source": [
        "print(Counter([x[1] for x in train_dataset.samples]))\n",
        "print(Counter([x[1] for x in test_dataset.samples]))\n",
        "print(set([label.item() for _, label in train_dataset]))\n",
        "print(set([label for _, label in test_dataset]))"
      ],
      "metadata": {
        "colab": {
          "base_uri": "https://localhost:8080/"
        },
        "id": "Mn4--CS3mhvE",
        "outputId": "e8d6c2fc-6728-426f-83a0-f15d8d9e5c6b"
      },
      "execution_count": 94,
      "outputs": [
        {
          "output_type": "stream",
          "name": "stdout",
          "text": [
            "Counter({0: 1800, 4: 468, 2: 336, 5: 264, 1: 201, 3: 198})\n",
            "Counter({0: 901, 4: 40, 2: 28, 5: 23, 1: 17, 3: 17})\n",
            "{0, 1, 2, 3, 4, 5}\n",
            "{0, 1, 2, 3, 4, 5}\n"
          ]
        }
      ]
    },
    {
      "cell_type": "code",
      "source": [
        "468/201, 40/17"
      ],
      "metadata": {
        "colab": {
          "base_uri": "https://localhost:8080/"
        },
        "id": "2hbINpApsFZo",
        "outputId": "ef2769f8-a46d-4ba7-c155-164407b036d7"
      },
      "execution_count": 106,
      "outputs": [
        {
          "output_type": "execute_result",
          "data": {
            "text/plain": [
              "(2.328358208955224, 2.3529411764705883)"
            ]
          },
          "metadata": {},
          "execution_count": 106
        }
      ]
    },
    {
      "cell_type": "code",
      "source": [
        "# # ✅ Split Test Dataset into Validation & Test\n",
        "# val_ratio = 0.2\n",
        "# test_indices = list(range(len(test_dataset)))\n",
        "# val_indices, test_indices = train_test_split(test_indices, test_size=(1 - val_ratio), random_state=42)\n",
        "\n",
        "# val_dataset = Subset(test_dataset, val_indices)\n",
        "# test_dataset = Subset(test_dataset, test_indices)"
      ],
      "metadata": {
        "id": "r-fRODbgvBN3"
      },
      "execution_count": 97,
      "outputs": []
    },
    {
      "cell_type": "code",
      "source": [
        "#dataset = datasets.ImageFolder(root=\"/content/six_classes\", transform=get_augmentation_transform())\n",
        "\n",
        "# Split into train/test\n",
        "# train_size = int(0.8 * len(dataset))\n",
        "# test_size = len(dataset) - train_size\n",
        "# train_dataset, test_dataset = torch.utils.data.random_split(dataset, [train_size, test_size])\n",
        "\n",
        "# Use same dataset for consistent class mapping\n",
        "train_loader = DataLoader(train_dataset, batch_size=32, shuffle=True)\n",
        "test_loader = DataLoader(test_dataset, batch_size=32, shuffle=False)\n"
      ],
      "metadata": {
        "id": "xpgYMbdxjmN6"
      },
      "execution_count": 98,
      "outputs": []
    },
    {
      "cell_type": "code",
      "source": [
        "# ✅ Print Dataset Sizes\n",
        "print(f\"Train Set Size: {len(train_dataset)}\")\n",
        "#print(f\"Validation Set Size: {len(val_dataset)}\")\n",
        "print(f\"Test Set Size: {len(test_dataset)}\")"
      ],
      "metadata": {
        "id": "ZdQOwwY89ecs",
        "colab": {
          "base_uri": "https://localhost:8080/"
        },
        "outputId": "9c8fd5a5-4e05-4a95-b3de-d85d2c9f8111"
      },
      "execution_count": 99,
      "outputs": [
        {
          "output_type": "stream",
          "name": "stdout",
          "text": [
            "Train Set Size: 3267\n",
            "Test Set Size: 1026\n"
          ]
        }
      ]
    },
    {
      "cell_type": "code",
      "source": [
        "train_loader"
      ],
      "metadata": {
        "colab": {
          "base_uri": "https://localhost:8080/"
        },
        "id": "V0fPgv0lp4BF",
        "outputId": "0af6513d-e1a0-4209-e6a6-e6861a67f0c5"
      },
      "execution_count": 72,
      "outputs": [
        {
          "output_type": "execute_result",
          "data": {
            "text/plain": [
              "('/content/six_classes/train/class_36/151460006999.png', 0)"
            ]
          },
          "metadata": {},
          "execution_count": 72
        }
      ]
    },
    {
      "cell_type": "code",
      "source": [
        "print(Counter([x[1] for x in train_loader.dataset.samples]))\n",
        "print(Counter([x[1] for x in test_loader.dataset.samples]))\n",
        "#print(set([label.item() for _, label in train_dataset]))\n",
        "#print(set([label for _, label in test_dataset]))"
      ],
      "metadata": {
        "colab": {
          "base_uri": "https://localhost:8080/"
        },
        "id": "2x0YaxpFp0l8",
        "outputId": "d3f88478-cc5f-40da-8358-195393fa8930"
      },
      "execution_count": 74,
      "outputs": [
        {
          "output_type": "stream",
          "name": "stdout",
          "text": [
            "Counter({5: 1800, 0: 468, 1: 336, 4: 264, 3: 201, 2: 198})\n",
            "Counter({0: 901, 4: 40, 2: 28, 5: 23, 1: 17, 3: 17})\n"
          ]
        }
      ]
    },
    {
      "cell_type": "code",
      "source": [
        "# ✅ Compute Class Weights\n",
        "class_weights = torch.tensor([max_class_count / count for count in class_counts.values()], dtype=torch.float32).to(device)\n",
        "print(\"Class Weights:\", class_weights)"
      ],
      "metadata": {
        "colab": {
          "base_uri": "https://localhost:8080/"
        },
        "id": "eSlf1baH8XkX",
        "outputId": "1838a864-9483-41d7-bda8-393cdd93f5ff"
      },
      "execution_count": 107,
      "outputs": [
        {
          "output_type": "stream",
          "name": "stdout",
          "text": [
            "Class Weights: tensor([11.5385, 16.0714, 27.2727, 26.8657, 20.4545,  1.0000], device='cuda:0')\n"
          ]
        }
      ]
    },
    {
      "cell_type": "code",
      "source": [
        "model = ViTForImageClassification.from_pretrained(\n",
        "    \"google/vit-base-patch16-224\", num_labels=6, ignore_mismatched_sizes=True\n",
        ")\n",
        "model.to(memory_format=torch.channels_last).to(device)"
      ],
      "metadata": {
        "colab": {
          "base_uri": "https://localhost:8080/"
        },
        "id": "gJ44ZT2evUSN",
        "outputId": "d8ef17ad-bdc0-4bad-91da-f43316d439aa"
      },
      "execution_count": 108,
      "outputs": [
        {
          "output_type": "stream",
          "name": "stderr",
          "text": [
            "Some weights of ViTForImageClassification were not initialized from the model checkpoint at google/vit-base-patch16-224 and are newly initialized because the shapes did not match:\n",
            "- classifier.bias: found shape torch.Size([1000]) in the checkpoint and torch.Size([6]) in the model instantiated\n",
            "- classifier.weight: found shape torch.Size([1000, 768]) in the checkpoint and torch.Size([6, 768]) in the model instantiated\n",
            "You should probably TRAIN this model on a down-stream task to be able to use it for predictions and inference.\n"
          ]
        },
        {
          "output_type": "execute_result",
          "data": {
            "text/plain": [
              "ViTForImageClassification(\n",
              "  (vit): ViTModel(\n",
              "    (embeddings): ViTEmbeddings(\n",
              "      (patch_embeddings): ViTPatchEmbeddings(\n",
              "        (projection): Conv2d(3, 768, kernel_size=(16, 16), stride=(16, 16))\n",
              "      )\n",
              "      (dropout): Dropout(p=0.0, inplace=False)\n",
              "    )\n",
              "    (encoder): ViTEncoder(\n",
              "      (layer): ModuleList(\n",
              "        (0-11): 12 x ViTLayer(\n",
              "          (attention): ViTSdpaAttention(\n",
              "            (attention): ViTSdpaSelfAttention(\n",
              "              (query): Linear(in_features=768, out_features=768, bias=True)\n",
              "              (key): Linear(in_features=768, out_features=768, bias=True)\n",
              "              (value): Linear(in_features=768, out_features=768, bias=True)\n",
              "              (dropout): Dropout(p=0.0, inplace=False)\n",
              "            )\n",
              "            (output): ViTSelfOutput(\n",
              "              (dense): Linear(in_features=768, out_features=768, bias=True)\n",
              "              (dropout): Dropout(p=0.0, inplace=False)\n",
              "            )\n",
              "          )\n",
              "          (intermediate): ViTIntermediate(\n",
              "            (dense): Linear(in_features=768, out_features=3072, bias=True)\n",
              "            (intermediate_act_fn): GELUActivation()\n",
              "          )\n",
              "          (output): ViTOutput(\n",
              "            (dense): Linear(in_features=3072, out_features=768, bias=True)\n",
              "            (dropout): Dropout(p=0.0, inplace=False)\n",
              "          )\n",
              "          (layernorm_before): LayerNorm((768,), eps=1e-12, elementwise_affine=True)\n",
              "          (layernorm_after): LayerNorm((768,), eps=1e-12, elementwise_affine=True)\n",
              "        )\n",
              "      )\n",
              "    )\n",
              "    (layernorm): LayerNorm((768,), eps=1e-12, elementwise_affine=True)\n",
              "  )\n",
              "  (classifier): Linear(in_features=768, out_features=6, bias=True)\n",
              ")"
            ]
          },
          "metadata": {},
          "execution_count": 108
        }
      ]
    },
    {
      "cell_type": "code",
      "source": [
        "# ✅ Freeze Layers Except Last 2 Blocks + Classifier\n",
        "for name, param in model.named_parameters():\n",
        "    if \"classifier\" in name:\n",
        "        param.requires_grad = True\n",
        "    else:\n",
        "        param.requires_grad = False"
      ],
      "metadata": {
        "id": "gQpQmrlR06y8"
      },
      "execution_count": 109,
      "outputs": []
    },
    {
      "cell_type": "code",
      "source": [
        "def count_trainable_parameters(model):\n",
        "    \"\"\"Counts and prints the number of trainable parameters in the model.\"\"\"\n",
        "    trainable_params = sum(p.numel() for p in model.parameters() if p.requires_grad)\n",
        "    print(f\"✅ Total Trainable Parameters: {trainable_params:,}\")\n",
        "\n",
        "# ✅ Example usage\n",
        "count_trainable_parameters(model)"
      ],
      "metadata": {
        "colab": {
          "base_uri": "https://localhost:8080/"
        },
        "id": "QFU81yr01Nde",
        "outputId": "e8557ec2-4900-4625-e5bd-3034016bac65"
      },
      "execution_count": 110,
      "outputs": [
        {
          "output_type": "stream",
          "name": "stdout",
          "text": [
            "✅ Total Trainable Parameters: 4,614\n"
          ]
        }
      ]
    },
    {
      "cell_type": "code",
      "source": [
        "# ✅ Loss Function & Optimizer\n",
        "criterion = nn.CrossEntropyLoss(weight=class_weights)\n",
        "optimizer = optim.AdamW(model.parameters(), lr=3e-4, weight_decay=1e-4)\n",
        "scheduler = optim.lr_scheduler.ReduceLROnPlateau(optimizer, mode='min', patience=2, factor=0.5)\n",
        "scaler = GradScaler()"
      ],
      "metadata": {
        "id": "0JfnD8vT8SxI",
        "colab": {
          "base_uri": "https://localhost:8080/"
        },
        "outputId": "b2ab6e5a-4748-459b-d7e1-f4bfa224f433"
      },
      "execution_count": 111,
      "outputs": [
        {
          "output_type": "stream",
          "name": "stderr",
          "text": [
            "<ipython-input-111-03cd1629c9fd>:5: FutureWarning: `torch.cuda.amp.GradScaler(args...)` is deprecated. Please use `torch.amp.GradScaler('cuda', args...)` instead.\n",
            "  scaler = GradScaler()\n"
          ]
        }
      ]
    },
    {
      "cell_type": "code",
      "source": [
        "# ✅ Enable Mixed Precision Training\n",
        "scaler = GradScaler()\n"
      ],
      "metadata": {
        "id": "kH20lM3B1dSA",
        "colab": {
          "base_uri": "https://localhost:8080/"
        },
        "outputId": "3cbe8d43-f712-4244-ce01-a71d97046d56"
      },
      "execution_count": 112,
      "outputs": [
        {
          "output_type": "stream",
          "name": "stderr",
          "text": [
            "<ipython-input-112-6541da8a7e5f>:2: FutureWarning: `torch.cuda.amp.GradScaler(args...)` is deprecated. Please use `torch.amp.GradScaler('cuda', args...)` instead.\n",
            "  scaler = GradScaler()\n"
          ]
        }
      ]
    },
    {
      "cell_type": "code",
      "source": [
        "import torch\n",
        "from torch.cuda.amp import autocast, GradScaler\n",
        "from tqdm import tqdm\n",
        "from sklearn.metrics import precision_score, recall_score, f1_score\n",
        "\n",
        "scaler = GradScaler()\n",
        "\n",
        "def train_and_validate(model, train_loader, val_loader, criterion, optimizer, scheduler, device, epochs=10, patience=5):\n",
        "    best_val_loss = float(\"inf\")\n",
        "    early_stop_counter = 0\n",
        "\n",
        "    for epoch in range(epochs):\n",
        "        # Training Phase\n",
        "        model.train()\n",
        "        running_loss = 0.0\n",
        "        correct = 0\n",
        "        total = 0\n",
        "        all_preds = []\n",
        "        all_labels = []\n",
        "\n",
        "        for images, labels in tqdm(train_loader, desc=f\"Epoch {epoch+1}/{epochs} - Training\"):\n",
        "            images, labels = images.to(device), labels.to(device)\n",
        "            optimizer.zero_grad()\n",
        "\n",
        "            with autocast():\n",
        "                outputs = model(images)\n",
        "                loss = criterion(outputs.logits, labels)\n",
        "\n",
        "            scaler.scale(loss).backward()\n",
        "            scaler.step(optimizer)\n",
        "            scaler.update()\n",
        "\n",
        "            running_loss += loss.item()\n",
        "            _, predicted = outputs.logits.max(1)\n",
        "            correct += (predicted == labels).sum().item()\n",
        "            total += labels.size(0)\n",
        "\n",
        "            all_preds.extend(predicted.cpu().numpy())\n",
        "            all_labels.extend(labels.cpu().numpy())\n",
        "\n",
        "        epoch_loss = running_loss / len(train_loader)\n",
        "        epoch_acc = 100 * correct / total\n",
        "        epoch_precision = precision_score(all_labels, all_preds, average=\"weighted\", zero_division=0)\n",
        "        epoch_recall = recall_score(all_labels, all_preds, average=\"weighted\", zero_division=0)\n",
        "        epoch_f1 = f1_score(all_labels, all_preds, average=\"weighted\", zero_division=0)\n",
        "\n",
        "        print(f\"Epoch {epoch+1} Train: Loss={epoch_loss:.4f}, Accuracy={epoch_acc:.2f}%, Precision={epoch_precision:.4f}, Recall={epoch_recall:.4f}, F1-score={epoch_f1:.4f}\")\n",
        "\n",
        "        # Validation Phase\n",
        "        model.eval()\n",
        "        val_loss = 0.0\n",
        "        correct = 0\n",
        "        total = 0\n",
        "        val_preds = []\n",
        "        val_labels = []\n",
        "\n",
        "        with torch.no_grad():\n",
        "            for images, labels in tqdm(val_loader, desc=f\"Epoch {epoch+1}/{epochs} - Validation\"):\n",
        "                images, labels = images.to(device), labels.to(device)\n",
        "                outputs = model(images)\n",
        "                loss = criterion(outputs.logits, labels)\n",
        "\n",
        "                val_loss += loss.item()\n",
        "                _, predicted = outputs.logits.max(1)\n",
        "                correct += (predicted == labels).sum().item()\n",
        "                total += labels.size(0)\n",
        "\n",
        "                val_preds.extend(predicted.cpu().numpy())\n",
        "                val_labels.extend(labels.cpu().numpy())\n",
        "\n",
        "        val_epoch_loss = val_loss / len(val_loader)\n",
        "        val_epoch_acc = 100 * correct / total\n",
        "        val_epoch_precision = precision_score(val_labels, val_preds, average=\"weighted\", zero_division=0)\n",
        "        val_epoch_recall = recall_score(val_labels, val_preds, average=\"weighted\", zero_division=0)\n",
        "        val_epoch_f1 = f1_score(val_labels, val_preds, average=\"weighted\", zero_division=0)\n",
        "\n",
        "        print(f\"Epoch {epoch+1} Validation: Loss={val_epoch_loss:.4f}, Accuracy={val_epoch_acc:.2f}%, Precision={val_epoch_precision:.4f}, Recall={val_epoch_recall:.4f}, F1-score={val_epoch_f1:.4f}\")\n",
        "\n",
        "        # Check for Early Stopping\n",
        "        if val_epoch_loss < best_val_loss:\n",
        "            best_val_loss = val_epoch_loss\n",
        "            early_stop_counter = 0\n",
        "        else:\n",
        "            early_stop_counter += 1\n",
        "            if early_stop_counter >= patience:\n",
        "                print(f\"Early stopping triggered at epoch {epoch+1}\")\n",
        "                break\n",
        "\n",
        "        scheduler.step(val_epoch_loss)  # Adjust learning rate\n",
        "\n",
        "def evaluate_model(model, test_loader, criterion, device):\n",
        "    model.eval()\n",
        "    correct = 0\n",
        "    total = 0\n",
        "    test_loss = 0.0\n",
        "    all_preds = []\n",
        "    all_labels = []\n",
        "\n",
        "    with torch.no_grad():\n",
        "        for images, labels in tqdm(test_loader, desc=\"Evaluating\"):\n",
        "            images, labels = images.to(device), labels.to(device)\n",
        "            outputs = model(images)\n",
        "            loss = criterion(outputs.logits, labels)\n",
        "            test_loss += loss.item()\n",
        "\n",
        "            _, predicted = outputs.logits.max(1)\n",
        "            correct += (predicted == labels).sum().item()\n",
        "            total += labels.size(0)\n",
        "\n",
        "            all_preds.extend(predicted.cpu().numpy())\n",
        "            all_labels.extend(labels.cpu().numpy())\n",
        "\n",
        "    test_acc = 100 * correct / total\n",
        "    test_loss = test_loss / len(test_loader)\n",
        "    test_precision = precision_score(all_labels, all_preds, average=\"weighted\", zero_division=0)\n",
        "    test_recall = recall_score(all_labels, all_preds, average=\"weighted\", zero_division=0)\n",
        "    test_f1 = f1_score(all_labels, all_preds, average=\"weighted\", zero_division=0)\n",
        "\n",
        "    print(f\"Test Results: Loss={test_loss:.4f}, Accuracy={test_acc:.2f}%, Precision={test_precision:.4f}, Recall={test_recall:.4f}, F1-score={test_f1:.4f}\")\n",
        "\n",
        "    # Confusion Matrix\n",
        "    cm = confusion_matrix(all_labels, all_preds)\n",
        "    class_names = list(test_loader.dataset.class_to_idx.keys())  # Get class labels\n",
        "\n",
        "    plt.figure(figsize=(10, 7))\n",
        "    sns.heatmap(cm, annot=True, fmt='d', cmap='Blues', xticklabels=class_names, yticklabels=class_names)\n",
        "    plt.xlabel('Predicted Label')\n",
        "    plt.ylabel('True Label')\n",
        "    plt.title('Confusion Matrix')\n",
        "    plt.show()\n"
      ],
      "metadata": {
        "id": "BQf968ZN1fxq",
        "colab": {
          "base_uri": "https://localhost:8080/"
        },
        "outputId": "344b28fb-95d0-4e59-e607-5d4328d43946"
      },
      "execution_count": 116,
      "outputs": [
        {
          "output_type": "stream",
          "name": "stderr",
          "text": [
            "<ipython-input-116-2e7004fe5f89>:6: FutureWarning: `torch.cuda.amp.GradScaler(args...)` is deprecated. Please use `torch.amp.GradScaler('cuda', args...)` instead.\n",
            "  scaler = GradScaler()\n"
          ]
        }
      ]
    },
    {
      "cell_type": "code",
      "source": [
        "train_and_validate(model, train_loader, test_loader, criterion, optimizer, scheduler, device, epochs=30, patience = 3)"
      ],
      "metadata": {
        "colab": {
          "base_uri": "https://localhost:8080/"
        },
        "id": "X3qmKWlF-qtu",
        "outputId": "2c50f94b-c6ff-469b-eac9-2d03db56af05"
      },
      "execution_count": 114,
      "outputs": [
        {
          "output_type": "stream",
          "name": "stderr",
          "text": [
            "\rEpoch 1/30 - Training:   0%|          | 0/103 [00:00<?, ?it/s]<ipython-input-113-23103989b0d3>:25: FutureWarning: `torch.cuda.amp.autocast(args...)` is deprecated. Please use `torch.amp.autocast('cuda', args...)` instead.\n",
            "  with autocast():\n",
            "Epoch 1/30 - Training: 100%|██████████| 103/103 [00:21<00:00,  4.78it/s]\n"
          ]
        },
        {
          "output_type": "stream",
          "name": "stdout",
          "text": [
            "Epoch 1 Train: Loss=0.9426, Accuracy=66.24%, Precision=0.5894, Recall=0.6624, F1-score=0.6036\n"
          ]
        },
        {
          "output_type": "stream",
          "name": "stderr",
          "text": [
            "Epoch 1/30 - Validation: 100%|██████████| 33/33 [00:13<00:00,  2.52it/s]\n"
          ]
        },
        {
          "output_type": "stream",
          "name": "stdout",
          "text": [
            "Epoch 1 Validation: Loss=0.4611, Accuracy=92.79%, Precision=0.9114, Recall=0.9279, F1-score=0.9154\n"
          ]
        },
        {
          "output_type": "stream",
          "name": "stderr",
          "text": [
            "\rEpoch 2/30 - Training:   0%|          | 0/103 [00:00<?, ?it/s]<ipython-input-113-23103989b0d3>:25: FutureWarning: `torch.cuda.amp.autocast(args...)` is deprecated. Please use `torch.amp.autocast('cuda', args...)` instead.\n",
            "  with autocast():\n",
            "Epoch 2/30 - Training: 100%|██████████| 103/103 [00:22<00:00,  4.64it/s]\n"
          ]
        },
        {
          "output_type": "stream",
          "name": "stdout",
          "text": [
            "Epoch 2 Train: Loss=0.5245, Accuracy=80.04%, Precision=0.7338, Recall=0.8004, F1-score=0.7537\n"
          ]
        },
        {
          "output_type": "stream",
          "name": "stderr",
          "text": [
            "Epoch 2/30 - Validation: 100%|██████████| 33/33 [00:13<00:00,  2.43it/s]\n"
          ]
        },
        {
          "output_type": "stream",
          "name": "stdout",
          "text": [
            "Epoch 2 Validation: Loss=0.3397, Accuracy=92.88%, Precision=0.9144, Recall=0.9288, F1-score=0.9183\n"
          ]
        },
        {
          "output_type": "stream",
          "name": "stderr",
          "text": [
            "\rEpoch 3/30 - Training:   0%|          | 0/103 [00:00<?, ?it/s]<ipython-input-113-23103989b0d3>:25: FutureWarning: `torch.cuda.amp.autocast(args...)` is deprecated. Please use `torch.amp.autocast('cuda', args...)` instead.\n",
            "  with autocast():\n",
            "Epoch 3/30 - Training: 100%|██████████| 103/103 [00:22<00:00,  4.64it/s]\n"
          ]
        },
        {
          "output_type": "stream",
          "name": "stdout",
          "text": [
            "Epoch 3 Train: Loss=0.4121, Accuracy=82.37%, Precision=0.8437, Recall=0.8237, F1-score=0.7838\n"
          ]
        },
        {
          "output_type": "stream",
          "name": "stderr",
          "text": [
            "Epoch 3/30 - Validation: 100%|██████████| 33/33 [00:13<00:00,  2.49it/s]\n"
          ]
        },
        {
          "output_type": "stream",
          "name": "stdout",
          "text": [
            "Epoch 3 Validation: Loss=0.2720, Accuracy=93.57%, Precision=0.9207, Recall=0.9357, F1-score=0.9250\n"
          ]
        },
        {
          "output_type": "stream",
          "name": "stderr",
          "text": [
            "\rEpoch 4/30 - Training:   0%|          | 0/103 [00:00<?, ?it/s]<ipython-input-113-23103989b0d3>:25: FutureWarning: `torch.cuda.amp.autocast(args...)` is deprecated. Please use `torch.amp.autocast('cuda', args...)` instead.\n",
            "  with autocast():\n",
            "Epoch 4/30 - Training: 100%|██████████| 103/103 [00:21<00:00,  4.79it/s]\n"
          ]
        },
        {
          "output_type": "stream",
          "name": "stdout",
          "text": [
            "Epoch 4 Train: Loss=0.3508, Accuracy=84.36%, Precision=0.8599, Recall=0.8436, F1-score=0.8123\n"
          ]
        },
        {
          "output_type": "stream",
          "name": "stderr",
          "text": [
            "Epoch 4/30 - Validation: 100%|██████████| 33/33 [00:13<00:00,  2.48it/s]\n"
          ]
        },
        {
          "output_type": "stream",
          "name": "stdout",
          "text": [
            "Epoch 4 Validation: Loss=0.2741, Accuracy=92.40%, Precision=0.9214, Recall=0.9240, F1-score=0.9187\n"
          ]
        },
        {
          "output_type": "stream",
          "name": "stderr",
          "text": [
            "\rEpoch 5/30 - Training:   0%|          | 0/103 [00:00<?, ?it/s]<ipython-input-113-23103989b0d3>:25: FutureWarning: `torch.cuda.amp.autocast(args...)` is deprecated. Please use `torch.amp.autocast('cuda', args...)` instead.\n",
            "  with autocast():\n",
            "Epoch 5/30 - Training: 100%|██████████| 103/103 [00:21<00:00,  4.68it/s]\n"
          ]
        },
        {
          "output_type": "stream",
          "name": "stdout",
          "text": [
            "Epoch 5 Train: Loss=0.3021, Accuracy=86.16%, Precision=0.8751, Recall=0.8616, F1-score=0.8404\n"
          ]
        },
        {
          "output_type": "stream",
          "name": "stderr",
          "text": [
            "Epoch 5/30 - Validation: 100%|██████████| 33/33 [00:13<00:00,  2.46it/s]\n"
          ]
        },
        {
          "output_type": "stream",
          "name": "stdout",
          "text": [
            "Epoch 5 Validation: Loss=0.2190, Accuracy=93.86%, Precision=0.9409, Recall=0.9386, F1-score=0.9317\n"
          ]
        },
        {
          "output_type": "stream",
          "name": "stderr",
          "text": [
            "\rEpoch 6/30 - Training:   0%|          | 0/103 [00:00<?, ?it/s]<ipython-input-113-23103989b0d3>:25: FutureWarning: `torch.cuda.amp.autocast(args...)` is deprecated. Please use `torch.amp.autocast('cuda', args...)` instead.\n",
            "  with autocast():\n",
            "Epoch 6/30 - Training: 100%|██████████| 103/103 [00:22<00:00,  4.65it/s]\n"
          ]
        },
        {
          "output_type": "stream",
          "name": "stdout",
          "text": [
            "Epoch 6 Train: Loss=0.2744, Accuracy=87.30%, Precision=0.8837, Recall=0.8730, F1-score=0.8549\n"
          ]
        },
        {
          "output_type": "stream",
          "name": "stderr",
          "text": [
            "Epoch 6/30 - Validation: 100%|██████████| 33/33 [00:13<00:00,  2.47it/s]\n"
          ]
        },
        {
          "output_type": "stream",
          "name": "stdout",
          "text": [
            "Epoch 6 Validation: Loss=0.2499, Accuracy=92.79%, Precision=0.9397, Recall=0.9279, F1-score=0.9257\n"
          ]
        },
        {
          "output_type": "stream",
          "name": "stderr",
          "text": [
            "\rEpoch 7/30 - Training:   0%|          | 0/103 [00:00<?, ?it/s]<ipython-input-113-23103989b0d3>:25: FutureWarning: `torch.cuda.amp.autocast(args...)` is deprecated. Please use `torch.amp.autocast('cuda', args...)` instead.\n",
            "  with autocast():\n",
            "Epoch 7/30 - Training: 100%|██████████| 103/103 [00:21<00:00,  4.72it/s]\n"
          ]
        },
        {
          "output_type": "stream",
          "name": "stdout",
          "text": [
            "Epoch 7 Train: Loss=0.2682, Accuracy=87.54%, Precision=0.8857, Recall=0.8754, F1-score=0.8621\n"
          ]
        },
        {
          "output_type": "stream",
          "name": "stderr",
          "text": [
            "Epoch 7/30 - Validation: 100%|██████████| 33/33 [00:13<00:00,  2.46it/s]\n"
          ]
        },
        {
          "output_type": "stream",
          "name": "stdout",
          "text": [
            "Epoch 7 Validation: Loss=0.2215, Accuracy=93.37%, Precision=0.9432, Recall=0.9337, F1-score=0.9309\n"
          ]
        },
        {
          "output_type": "stream",
          "name": "stderr",
          "text": [
            "\rEpoch 8/30 - Training:   0%|          | 0/103 [00:00<?, ?it/s]<ipython-input-113-23103989b0d3>:25: FutureWarning: `torch.cuda.amp.autocast(args...)` is deprecated. Please use `torch.amp.autocast('cuda', args...)` instead.\n",
            "  with autocast():\n",
            "Epoch 8/30 - Training: 100%|██████████| 103/103 [00:21<00:00,  4.73it/s]\n"
          ]
        },
        {
          "output_type": "stream",
          "name": "stdout",
          "text": [
            "Epoch 8 Train: Loss=0.2303, Accuracy=89.68%, Precision=0.9029, Recall=0.8968, F1-score=0.8867\n"
          ]
        },
        {
          "output_type": "stream",
          "name": "stderr",
          "text": [
            "Epoch 8/30 - Validation: 100%|██████████| 33/33 [00:13<00:00,  2.48it/s]\n"
          ]
        },
        {
          "output_type": "stream",
          "name": "stdout",
          "text": [
            "Epoch 8 Validation: Loss=0.2105, Accuracy=93.47%, Precision=0.9478, Recall=0.9347, F1-score=0.9325\n"
          ]
        },
        {
          "output_type": "stream",
          "name": "stderr",
          "text": [
            "\rEpoch 9/30 - Training:   0%|          | 0/103 [00:00<?, ?it/s]<ipython-input-113-23103989b0d3>:25: FutureWarning: `torch.cuda.amp.autocast(args...)` is deprecated. Please use `torch.amp.autocast('cuda', args...)` instead.\n",
            "  with autocast():\n",
            "Epoch 9/30 - Training: 100%|██████████| 103/103 [00:22<00:00,  4.65it/s]\n"
          ]
        },
        {
          "output_type": "stream",
          "name": "stdout",
          "text": [
            "Epoch 9 Train: Loss=0.2160, Accuracy=90.24%, Precision=0.9101, Recall=0.9024, F1-score=0.8944\n"
          ]
        },
        {
          "output_type": "stream",
          "name": "stderr",
          "text": [
            "Epoch 9/30 - Validation: 100%|██████████| 33/33 [00:13<00:00,  2.48it/s]\n"
          ]
        },
        {
          "output_type": "stream",
          "name": "stdout",
          "text": [
            "Epoch 9 Validation: Loss=0.2031, Accuracy=93.96%, Precision=0.9461, Recall=0.9396, F1-score=0.9359\n"
          ]
        },
        {
          "output_type": "stream",
          "name": "stderr",
          "text": [
            "\rEpoch 10/30 - Training:   0%|          | 0/103 [00:00<?, ?it/s]<ipython-input-113-23103989b0d3>:25: FutureWarning: `torch.cuda.amp.autocast(args...)` is deprecated. Please use `torch.amp.autocast('cuda', args...)` instead.\n",
            "  with autocast():\n",
            "Epoch 10/30 - Training: 100%|██████████| 103/103 [00:21<00:00,  4.71it/s]\n"
          ]
        },
        {
          "output_type": "stream",
          "name": "stdout",
          "text": [
            "Epoch 10 Train: Loss=0.2094, Accuracy=90.17%, Precision=0.9089, Recall=0.9017, F1-score=0.8940\n"
          ]
        },
        {
          "output_type": "stream",
          "name": "stderr",
          "text": [
            "Epoch 10/30 - Validation: 100%|██████████| 33/33 [00:13<00:00,  2.48it/s]\n"
          ]
        },
        {
          "output_type": "stream",
          "name": "stdout",
          "text": [
            "Epoch 10 Validation: Loss=0.1822, Accuracy=94.44%, Precision=0.9495, Recall=0.9444, F1-score=0.9420\n"
          ]
        },
        {
          "output_type": "stream",
          "name": "stderr",
          "text": [
            "\rEpoch 11/30 - Training:   0%|          | 0/103 [00:00<?, ?it/s]<ipython-input-113-23103989b0d3>:25: FutureWarning: `torch.cuda.amp.autocast(args...)` is deprecated. Please use `torch.amp.autocast('cuda', args...)` instead.\n",
            "  with autocast():\n",
            "Epoch 11/30 - Training: 100%|██████████| 103/103 [00:21<00:00,  4.81it/s]\n"
          ]
        },
        {
          "output_type": "stream",
          "name": "stdout",
          "text": [
            "Epoch 11 Train: Loss=0.2060, Accuracy=90.42%, Precision=0.9115, Recall=0.9042, F1-score=0.8965\n"
          ]
        },
        {
          "output_type": "stream",
          "name": "stderr",
          "text": [
            "Epoch 11/30 - Validation: 100%|██████████| 33/33 [00:13<00:00,  2.47it/s]\n"
          ]
        },
        {
          "output_type": "stream",
          "name": "stdout",
          "text": [
            "Epoch 11 Validation: Loss=0.1911, Accuracy=93.86%, Precision=0.9482, Recall=0.9386, F1-score=0.9378\n"
          ]
        },
        {
          "output_type": "stream",
          "name": "stderr",
          "text": [
            "\rEpoch 12/30 - Training:   0%|          | 0/103 [00:00<?, ?it/s]<ipython-input-113-23103989b0d3>:25: FutureWarning: `torch.cuda.amp.autocast(args...)` is deprecated. Please use `torch.amp.autocast('cuda', args...)` instead.\n",
            "  with autocast():\n",
            "Epoch 12/30 - Training: 100%|██████████| 103/103 [00:24<00:00,  4.27it/s]\n"
          ]
        },
        {
          "output_type": "stream",
          "name": "stdout",
          "text": [
            "Epoch 12 Train: Loss=0.1827, Accuracy=91.22%, Precision=0.9177, Recall=0.9122, F1-score=0.9054\n"
          ]
        },
        {
          "output_type": "stream",
          "name": "stderr",
          "text": [
            "Epoch 12/30 - Validation: 100%|██████████| 33/33 [00:13<00:00,  2.48it/s]\n"
          ]
        },
        {
          "output_type": "stream",
          "name": "stdout",
          "text": [
            "Epoch 12 Validation: Loss=0.1891, Accuracy=94.25%, Precision=0.9489, Recall=0.9425, F1-score=0.9408\n"
          ]
        },
        {
          "output_type": "stream",
          "name": "stderr",
          "text": [
            "\rEpoch 13/30 - Training:   0%|          | 0/103 [00:00<?, ?it/s]<ipython-input-113-23103989b0d3>:25: FutureWarning: `torch.cuda.amp.autocast(args...)` is deprecated. Please use `torch.amp.autocast('cuda', args...)` instead.\n",
            "  with autocast():\n",
            "Epoch 13/30 - Training: 100%|██████████| 103/103 [00:22<00:00,  4.65it/s]\n"
          ]
        },
        {
          "output_type": "stream",
          "name": "stdout",
          "text": [
            "Epoch 13 Train: Loss=0.1707, Accuracy=91.95%, Precision=0.9234, Recall=0.9195, F1-score=0.9127\n"
          ]
        },
        {
          "output_type": "stream",
          "name": "stderr",
          "text": [
            "Epoch 13/30 - Validation: 100%|██████████| 33/33 [00:13<00:00,  2.47it/s]"
          ]
        },
        {
          "output_type": "stream",
          "name": "stdout",
          "text": [
            "Epoch 13 Validation: Loss=0.1980, Accuracy=93.96%, Precision=0.9498, Recall=0.9396, F1-score=0.9395\n",
            "Early stopping triggered at epoch 13\n"
          ]
        },
        {
          "output_type": "stream",
          "name": "stderr",
          "text": [
            "\n"
          ]
        }
      ]
    },
    {
      "cell_type": "code",
      "source": [
        "evaluate_model(model, test_loader, criterion, device)"
      ],
      "metadata": {
        "colab": {
          "base_uri": "https://localhost:8080/",
          "height": 677
        },
        "id": "qEr56APR-xDm",
        "outputId": "b1756788-ce47-4447-852f-491116c1a374"
      },
      "execution_count": 121,
      "outputs": [
        {
          "output_type": "stream",
          "name": "stderr",
          "text": [
            "Evaluating: 100%|██████████| 33/33 [00:13<00:00,  2.48it/s]\n"
          ]
        },
        {
          "output_type": "stream",
          "name": "stdout",
          "text": [
            "Test Results: Loss=0.1980, Accuracy=93.96%, Precision=0.9498, Recall=0.9396, F1-score=0.9395\n"
          ]
        },
        {
          "output_type": "display_data",
          "data": {
            "text/plain": [
              "<Figure size 1000x700 with 2 Axes>"
            ],
            "image/png": "[encoded data removed]"
          },
          "metadata": {}
        }
      ]
    },
    {
      "cell_type": "code",
      "source": [],
      "metadata": {
        "id": "rmhgCdHCwaHV"
      },
      "execution_count": null,
      "outputs": []
    },
    {
      "cell_type": "code",
      "source": [
        "import numpy as np\n",
        "import matplotlib.pyplot as plt\n",
        "import seaborn as sns\n",
        "from sklearn.metrics import confusion_matrix, accuracy_score, precision_score, recall_score, f1_score\n",
        "\n",
        "def print_classification_metrics(y_true, y_pred, class_labels=None):\n",
        "    \"\"\"\n",
        "    Prints confusion matrix, accuracy, precision, recall, and F1-score for a multiclass problem.\n",
        "\n",
        "    :param y_true: Array of true labels\n",
        "    :param y_pred: Array of predicted labels\n",
        "    :param class_labels: List of class labels (optional, required for labeled confusion matrix)\n",
        "    \"\"\"\n",
        "    # Compute metrics\n",
        "    cm = confusion_matrix(y_true, y_pred)\n",
        "    accuracy = accuracy_score(y_true, y_pred)\n",
        "    precision = precision_score(y_true, y_pred, average='macro')\n",
        "    recall = recall_score(y_true, y_pred, average='macro')\n",
        "    f1 = f1_score(y_true, y_pred, average='macro')\n",
        "\n",
        "    # Print metrics\n",
        "    print(\"Confusion Matrix:\")\n",
        "    print(cm)\n",
        "    print(\"\\nAccuracy:\", accuracy)\n",
        "    print(\"Precision:\", precision)\n",
        "    print(\"Recall:\", recall)\n",
        "    print(\"F1-score:\", f1)\n",
        "\n",
        "    # Plot confusion matrix\n",
        "    plt.figure(figsize=(6, 5))\n",
        "    sns.heatmap(cm, annot=True, fmt='d', cmap='Blues', xticklabels=class_labels, yticklabels=class_labels)\n",
        "    plt.xlabel('Predicted Label')\n",
        "    plt.ylabel('True Label')\n",
        "    plt.title('Confusion Matrix')\n",
        "    plt.show()\n",
        "\n",
        "# Example usage\n",
        "y_true = np.array([0, 1, 2, 2, 0, 1, 2, 0, 1, 1])  # True labels\n",
        "y_pred = np.array([0, 0, 2, 2, 0, 2, 1, 0, 1, 1])  # Predicted labels\n",
        "class_labels = ['Class 0', 'Class 1', 'Class 2']\n",
        "\n",
        "print_classification_metrics(y_true, y_pred, class_labels)"
      ],
      "metadata": {
        "id": "cUnT3FjzuR4N"
      },
      "execution_count": null,
      "outputs": []
    }
  ]
}